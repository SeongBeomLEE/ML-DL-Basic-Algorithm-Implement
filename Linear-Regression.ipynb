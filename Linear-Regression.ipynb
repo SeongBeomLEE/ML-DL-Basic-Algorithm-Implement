{
 "cells": [
  {
   "cell_type": "markdown",
   "metadata": {},
   "source": [
    "- MSE를 손실함수로 사용하고, 경사하강법을 이용하여 모델의 가중치를 업데이트 하는 선형 회귀 모델을 구현\n",
    "\n",
    "- 경사하강법은 SGD가 아니 전체 데이터를 사용하는 Batch GD를 사용함\n",
    "\n",
    "- Y_hat = WX + b\n",
    "\n",
    "- Loss = MSE = (Y - Y_hat)**2 / N"
   ]
  },
  {
   "cell_type": "code",
   "execution_count": 43,
   "metadata": {},
   "outputs": [],
   "source": [
    "import numpy as np"
   ]
  },
  {
   "cell_type": "code",
   "execution_count": 44,
   "metadata": {},
   "outputs": [],
   "source": [
    "# 데이터 생성\n",
    "\n",
    "X = np.random.randn(1000, 10)\n",
    "W = np.random.rand(10)\n",
    "b = np.random.rand()\n",
    "\n",
    "Y = X.dot(W) + b"
   ]
  },
  {
   "cell_type": "code",
   "execution_count": 45,
   "metadata": {},
   "outputs": [],
   "source": [
    "class LinearRegression:\n",
    "    def __init__(self, input_dim, lr, epochs, seed):\n",
    "        self.input_dim = input_dim\n",
    "        self.lr = lr\n",
    "        self.epochs = epochs\n",
    "        np.random.seed(seed)\n",
    "        self.W = np.random.rand(input_dim)\n",
    "        np.random.seed(seed)\n",
    "        self.b = np.random.rand()\n",
    "    \n",
    "    def backword(self, X, Y, Y_hat):\n",
    "        dE = (Y_hat - Y).reshape(-1, 1) # (data, 1)\n",
    "        dW = np.mean(dE * X, axis = 0) # (data, input_dim) -> (1, input_dim)\n",
    "        db = np.mean(dE) # (data, 1) -> (1,)\n",
    "\n",
    "        self.W -= dW * self.lr\n",
    "        self.b -= db * self.lr\n",
    "\n",
    "    def forword(self, X):\n",
    "        return X.dot(self.W) + self.b\n",
    "\n",
    "    def loss(self, Y, Y_hat):\n",
    "        return np.mean((Y_hat - Y) ** 2)\n",
    "\n",
    "    def fit(self, X, Y):\n",
    "        '''\n",
    "        X = (data, input_dim)\n",
    "        Y = (data, 1)\n",
    "        '''\n",
    "\n",
    "        for epoch in range(1, self.epochs + 1):\n",
    "            Y_hat = self.forword(X)\n",
    "            error = self.loss(Y, Y_hat)\n",
    "            if epoch % 100 == 0:\n",
    "                print(f'Epoch: {epoch} | Loss : {error}')\n",
    "            self.backword(X, Y, Y_hat)"
   ]
  },
  {
   "cell_type": "code",
   "execution_count": 46,
   "metadata": {},
   "outputs": [],
   "source": [
    "model = LinearRegression(input_dim = X.shape[1], lr = 0.01, epochs = 500, seed = 22)"
   ]
  },
  {
   "cell_type": "code",
   "execution_count": 47,
   "metadata": {},
   "outputs": [
    {
     "name": "stdout",
     "output_type": "stream",
     "text": [
      "befor W : [0.20846054 0.48168106 0.42053804 0.859182   0.17116155 0.33886396\n",
      " 0.27053283 0.69104135 0.22040452 0.81195092] | b : 0.20846053735884262\n"
     ]
    }
   ],
   "source": [
    "print(f'befor W : {model.W} | b : {model.b}')"
   ]
  },
  {
   "cell_type": "code",
   "execution_count": 48,
   "metadata": {},
   "outputs": [
    {
     "name": "stdout",
     "output_type": "stream",
     "text": [
      "Epoch: 100 | Loss : 0.4038257856926448\n",
      "Epoch: 200 | Loss : 0.05545447887381733\n",
      "Epoch: 300 | Loss : 0.008003070833152593\n",
      "Epoch: 400 | Loss : 0.0012135948922503725\n",
      "Epoch: 500 | Loss : 0.00019294606063628535\n"
     ]
    }
   ],
   "source": [
    "model.fit(X, Y)"
   ]
  },
  {
   "cell_type": "code",
   "execution_count": 49,
   "metadata": {},
   "outputs": [
    {
     "name": "stdout",
     "output_type": "stream",
     "text": [
      "after W : [0.80877511 0.45838002 0.34813656 0.01108832 0.79437985 0.01290832\n",
      " 0.89305761 0.97082828 0.63684081 0.22189533] | b : 0.8236757198001673\n"
     ]
    }
   ],
   "source": [
    "print(f'after W : {model.W} | b : {model.b}')"
   ]
  },
  {
   "cell_type": "code",
   "execution_count": 50,
   "metadata": {},
   "outputs": [
    {
     "name": "stdout",
     "output_type": "stream",
     "text": [
      "taget W : [0.81662839 0.46110996 0.34826347 0.0072925  0.80075875 0.01012621\n",
      " 0.89592794 0.97601216 0.64251337 0.21962333] | b : 0.8264714986290024\n"
     ]
    }
   ],
   "source": [
    "print(f'taget W : {W} | b : {b}')"
   ]
  },
  {
   "cell_type": "markdown",
   "metadata": {},
   "source": [
    "학습 결과 target과 가까워지게 W와 b가 업데이트 되어간다는 것을 확인할 수 있음"
   ]
  }
 ],
 "metadata": {
  "kernelspec": {
   "display_name": "Python 3.9.7 ('base')",
   "language": "python",
   "name": "python3"
  },
  "language_info": {
   "codemirror_mode": {
    "name": "ipython",
    "version": 3
   },
   "file_extension": ".py",
   "mimetype": "text/x-python",
   "name": "python",
   "nbconvert_exporter": "python",
   "pygments_lexer": "ipython3",
   "version": "3.9.7"
  },
  "orig_nbformat": 4,
  "vscode": {
   "interpreter": {
    "hash": "5836ffa1101046057468fdfe98fbd6981fde0b239b5104b10a8f4b084de20616"
   }
  }
 },
 "nbformat": 4,
 "nbformat_minor": 2
}
